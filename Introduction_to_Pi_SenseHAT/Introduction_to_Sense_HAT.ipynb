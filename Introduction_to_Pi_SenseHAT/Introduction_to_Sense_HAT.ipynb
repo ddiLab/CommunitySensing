{
 "cells": [
  {
   "cell_type": "markdown",
   "metadata": {},
   "source": [
    "\n",
    "\n",
    "# Introduction to Raspberry Pi [Sense HAT](https://www.raspberrypi.org/products/sense-hat/)\n",
    "\n",
    "<img src='https://www.raspberrypi.org/app/uploads/2017/05/Sense-HAT-overhead-2-1307x1080.jpg' style=\"width:50%;\"/>\n",
    "\n",
    "\n",
    "* An add-on board for Raspberry Pi   \n",
    "* Made especially for the [Astro Pi](https://astro-pi.org) mission\n",
    "* Includes an 8×8 RGB LED matrix, a five-button joystick and includes the following sensors:\n",
    "\n",
    " * Gyroscope\n",
    " * Accelerometer\n",
    " * Magnetometer\n",
    " * Temperature\n",
    " * Barometric pressure\n",
    " * Humidity\n",
    "\n",
    "\n",
    "### There are Sense HAT emulators to test:  \n",
    "* [Online Sense HAT emulator](https://trinket.io/sense-hat)\n",
    "* Sense HAT emulator included in the Raspbian operating system\n",
    "\n",
    "\n",
    "### Raspberry Pi Sense HAT resources \n",
    "* [Sense HAT Python module](http://pythonhosted.org/sense-hat/)\n",
    "* [Sense HAT GitHub](https://github.com/RPi-Distro/python-sense-hat)\n",
    "* [Tutorial to Getting started with the Sense HAT](https://projects.raspberrypi.org/en/projects/getting-started-with-the-sense-hat)\n",
    "* [GitHub Repo for Sense HAT examples](https://github.com/RPi-Distro/python-sense-hat/tree/master/examples)\n",
    "---"
   ]
  },
  {
   "cell_type": "markdown",
   "metadata": {},
   "source": [
    "# Raspberry Pi Sense HAT set up \n",
    "\n",
    "**Material adapted from: [Sense HAT installation](https://www.raspberrypi.org/documentation/hardware/sense-hat/README.md)**\n",
    "\n",
    "* Update Raspberry Pi to latest version\n",
    " * On terminal: ```Pi:~ $ sudo apt-get update```\n",
    "* Install sense-hat package on Raspberry Pi\n",
    " * On terminal:``` Pi:~ $ sudo apt-get sense-hat```\n",
    "* Reboot Pi \n",
    " * On terminal:``Pi:~ $ sudo reboot``\n",
    "* Attach the Sense HAT on the Raspberry Pi machine while the Pi is shut down\n"
   ]
  },
  {
   "cell_type": "markdown",
   "metadata": {},
   "source": [
    "---\n",
    "# SenseHat Hello World\n",
    "\n",
    "**Material adapted from: [Sense HAT Python library](http://pythonhosted.org/sense-hat/), [Sense HAT introduction](https://projects.raspberrypi.org/en/projects/getting-started-with-the-sense-hat), and [Sense HAT cheat sheet](http://www.tecoed.co.uk/uploads/1/4/2/4/14249012/sense_hat.pdf)**"
   ]
  },
  {
   "cell_type": "markdown",
   "metadata": {},
   "source": [
    "* Import the SenseHat package"
   ]
  },
  {
   "cell_type": "code",
   "execution_count": 1,
   "metadata": {
    "collapsed": true
   },
   "outputs": [],
   "source": [
    "from sense_hat import SenseHat"
   ]
  },
  {
   "cell_type": "markdown",
   "metadata": {},
   "source": [
    "* Conncet to SenseHat "
   ]
  },
  {
   "cell_type": "code",
   "execution_count": 2,
   "metadata": {
    "collapsed": true
   },
   "outputs": [],
   "source": [
    "sense = SenseHat()"
   ]
  },
  {
   "cell_type": "markdown",
   "metadata": {},
   "source": [
    "* Say \"Hello World!\""
   ]
  },
  {
   "cell_type": "code",
   "execution_count": null,
   "metadata": {
    "collapsed": true
   },
   "outputs": [],
   "source": [
    "sense.show_message(\"Hello World!\")"
   ]
  },
  {
   "cell_type": "markdown",
   "metadata": {},
   "source": [
    "* Clear the LED matrix"
   ]
  },
  {
   "cell_type": "code",
   "execution_count": 4,
   "metadata": {
    "collapsed": true
   },
   "outputs": [],
   "source": [
    "sense.clear()"
   ]
  },
  {
   "cell_type": "markdown",
   "metadata": {},
   "source": [
    "---\n",
    "# LED Matrix\n",
    "There is 8×8 full-color LED display on the SenseHat. "
   ]
  },
  {
   "cell_type": "markdown",
   "metadata": {},
   "source": [
    "### Display characters"
   ]
  },
  {
   "cell_type": "markdown",
   "metadata": {},
   "source": [
    "* Display text"
   ]
  },
  {
   "cell_type": "code",
   "execution_count": 5,
   "metadata": {
    "collapsed": true
   },
   "outputs": [],
   "source": [
    "sense.show_message(\"How are you?\")"
   ]
  },
  {
   "cell_type": "markdown",
   "metadata": {},
   "source": [
    "* Display a single character"
   ]
  },
  {
   "cell_type": "code",
   "execution_count": 6,
   "metadata": {
    "collapsed": true
   },
   "outputs": [],
   "source": [
    "sense.show_letter(\"A\")"
   ]
  },
  {
   "cell_type": "code",
   "execution_count": 7,
   "metadata": {
    "collapsed": true
   },
   "outputs": [],
   "source": [
    "# Clear the LED matrix\n",
    "sense.clear()"
   ]
  },
  {
   "cell_type": "markdown",
   "metadata": {},
   "source": [
    "---\n",
    "### Display image "
   ]
  },
  {
   "cell_type": "markdown",
   "metadata": {},
   "source": [
    "* Import required libraries"
   ]
  },
  {
   "cell_type": "code",
   "execution_count": 19,
   "metadata": {
    "collapsed": true
   },
   "outputs": [],
   "source": [
    "from PIL import Image\n",
    "from IPython.display import display\n",
    "import os.path"
   ]
  },
  {
   "cell_type": "markdown",
   "metadata": {},
   "source": [
    "* Get the image's pixel size"
   ]
  },
  {
   "cell_type": "code",
   "execution_count": 20,
   "metadata": {
    "collapsed": true
   },
   "outputs": [],
   "source": [
    "file = os.path.join('./ball.jpg')\n",
    "img = Image.open(file)\n",
    "w, h = img.size"
   ]
  },
  {
   "cell_type": "code",
   "execution_count": 21,
   "metadata": {
    "scrolled": true
   },
   "outputs": [
    {
     "name": "stdout",
     "output_type": "stream",
     "text": [
      "Dimension: (480, 480) Total pixels: 230400\n"
     ]
    }
   ],
   "source": [
    "print(\"Dimension:\", img.size, \"Total pixels:\", w * h)"
   ]
  },
  {
   "cell_type": "markdown",
   "metadata": {},
   "source": [
    "* Display the image"
   ]
  },
  {
   "cell_type": "code",
   "execution_count": 22,
   "metadata": {},
   "outputs": [
    {
     "data": {
      "image/png": "[encoded data removed]",
      "text/plain": [
       "<PIL.JpegImagePlugin.JpegImageFile image mode=RGB size=480x480 at 0x6FF4A3D0>"
      ]
     },
     "metadata": {},
     "output_type": "display_data"
    }
   ],
   "source": [
    "display(img)"
   ]
  },
  {
   "cell_type": "markdown",
   "metadata": {},
   "source": [
    "* Set the image's pixel size to 8 x 8 "
   ]
  },
  {
   "cell_type": "code",
   "execution_count": 23,
   "metadata": {
    "collapsed": true
   },
   "outputs": [],
   "source": [
    "n_size = 8, 8 \n",
    "img.thumbnail(n_size, Image.ANTIALIAS)\n",
    "img.save(\"new_ball.jpg\")"
   ]
  },
  {
   "cell_type": "code",
   "execution_count": 24,
   "metadata": {},
   "outputs": [
    {
     "name": "stdout",
     "output_type": "stream",
     "text": [
      "Dimension: (8, 8) Total pixels: 64\n"
     ]
    }
   ],
   "source": [
    "img2 = Image.open('./new_ball.jpg')\n",
    "w2, h2 = img2.size\n",
    "print(\"Dimension:\", img2.size, \"Total pixels:\", w2 * h2)"
   ]
  },
  {
   "cell_type": "markdown",
   "metadata": {},
   "source": [
    "* Display the image with 8 x 8 pixel size"
   ]
  },
  {
   "cell_type": "code",
   "execution_count": 25,
   "metadata": {},
   "outputs": [
    {
     "data": {
      "image/png": "[encoded data removed]",
      "text/plain": [
       "<PIL.JpegImagePlugin.JpegImageFile image mode=RGB size=8x8 at 0x6FF4A570>"
      ]
     },
     "metadata": {},
     "output_type": "display_data"
    }
   ],
   "source": [
    "display(img2)"
   ]
  },
  {
   "cell_type": "markdown",
   "metadata": {},
   "source": [
    "* Display the image on LED Matrix\n",
    "> The image must have 8 x 8 pixel size to display on SenseHat LED Matrix. "
   ]
  },
  {
   "cell_type": "code",
   "execution_count": 26,
   "metadata": {
    "scrolled": false
   },
   "outputs": [
    {
     "data": {
      "text/plain": [
       "[[44, 0, 156],\n",
       " [92, 14, 126],\n",
       " [211, 73, 89],\n",
       " [255, 94, 65],\n",
       " [255, 65, 49],\n",
       " [194, 18, 54],\n",
       " [96, 0, 107],\n",
       " [79, 0, 165],\n",
       " [112, 14, 135],\n",
       " [166, 59, 141],\n",
       " [187, 53, 60],\n",
       " [177, 27, 0],\n",
       " [179, 20, 0],\n",
       " [184, 33, 52],\n",
       " [153, 28, 120],\n",
       " [90, 0, 106],\n",
       " [246, 56, 94],\n",
       " [201, 35, 55],\n",
       " [164, 42, 31],\n",
       " [85, 0, 0],\n",
       " [85, 0, 0],\n",
       " [155, 53, 41],\n",
       " [169, 26, 46],\n",
       " [189, 25, 60],\n",
       " [205, 21, 23],\n",
       " [174, 22, 17],\n",
       " [63, 0, 0],\n",
       " [255, 228, 206],\n",
       " [255, 234, 210],\n",
       " [44, 0, 0],\n",
       " [148, 31, 21],\n",
       " [171, 27, 19],\n",
       " [75, 0, 8],\n",
       " [82, 17, 25],\n",
       " [66, 32, 31],\n",
       " [232, 217, 210],\n",
       " [227, 218, 209],\n",
       " [54, 35, 28],\n",
       " [68, 22, 22],\n",
       " [64, 4, 6],\n",
       " [228, 208, 255],\n",
       " [245, 230, 255],\n",
       " [227, 224, 233],\n",
       " [39, 40, 34],\n",
       " [41, 42, 36],\n",
       " [229, 226, 233],\n",
       " [232, 222, 255],\n",
       " [203, 189, 240],\n",
       " [47, 46, 186],\n",
       " [213, 213, 255],\n",
       " [248, 249, 255],\n",
       " [240, 239, 218],\n",
       " [244, 238, 224],\n",
       " [253, 245, 255],\n",
       " [209, 199, 255],\n",
       " [33, 23, 158],\n",
       " [5, 14, 195],\n",
       " [28, 36, 163],\n",
       " [210, 212, 233],\n",
       " [240, 239, 211],\n",
       " [241, 230, 212],\n",
       " [209, 198, 232],\n",
       " [39, 29, 160],\n",
       " [25, 18, 196]]"
      ]
     },
     "execution_count": 26,
     "metadata": {},
     "output_type": "execute_result"
    }
   ],
   "source": [
    "sense.load_image(\"./new_ball.jpg\")"
   ]
  },
  {
   "cell_type": "markdown",
   "metadata": {},
   "source": [
    "* Clear the LED matrix"
   ]
  },
  {
   "cell_type": "code",
   "execution_count": 27,
   "metadata": {
    "collapsed": true
   },
   "outputs": [],
   "source": [
    "sense.clear()"
   ]
  },
  {
   "cell_type": "markdown",
   "metadata": {},
   "source": [
    "---\n",
    "### Set specific pixel on LED matrix"
   ]
  },
  {
   "cell_type": "markdown",
   "metadata": {},
   "source": [
    "* Set single pixel   \n",
    "**Material adapted from: [Sense HAT project](https://projects.raspberrypi.org/en/projects/getting-started-with-the-sense-hat/6)**\n",
    "> Sense HAT's LED matrix uses a coordinate system with x-axis and y-axis.    \n",
    "Numbering of these axes begins at ```0``` in the top left-hand corner.       \n",
    "Each LED represents one pixel of an image.     \n",
    "It can be addressed using an ```x,y``` notation. \n",
    "\n",
    "<img src='https://projects-static.raspberrypi.org/projects/rpi-sensehat-single-pixel/aaa8c110466db85007d54ec412d4f3f640294ea2/en/images/coordinates.png' style=\"width:30%;\"/>\n",
    "\n"
   ]
  },
  {
   "cell_type": "code",
   "execution_count": 28,
   "metadata": {
    "collapsed": true
   },
   "outputs": [],
   "source": [
    "# Set colors\n",
    "blue = (0,0,255)\n",
    "red = (255,0,0)"
   ]
  },
  {
   "cell_type": "code",
   "execution_count": 29,
   "metadata": {
    "collapsed": true
   },
   "outputs": [],
   "source": [
    "# Set pixel from x = 0 , y = 2 to blue\n",
    "sense.set_pixel(0, 2, blue)\n",
    "\n",
    "# Set pixel from x = 7 , y = 4 to red\n",
    "sense.set_pixel(7, 4, red)\n",
    "# Alternative: sense.set_pixel(0, 0, 255, 0, 0)"
   ]
  },
  {
   "cell_type": "markdown",
   "metadata": {},
   "source": [
    "---\n",
    "### Set the entire LED matrix"
   ]
  },
  {
   "cell_type": "markdown",
   "metadata": {},
   "source": [
    "* Set multiple pixels     \n",
    "[```set_pixels()```](https://pythonhosted.org/sense-hat/api/#led-matrix): updates the entire LED matrix based on a 64 length list of pixel values.   \n",
    "The color RGB values are from [Cloford website](http://cloford.com/resources/colours/500col.htm), and this [cheat sheet](http://www.tecoed.co.uk/uploads/1/4/2/4/14249012/sense_hat.pdf) is used as a reference.\n"
   ]
  },
  {
   "cell_type": "code",
   "execution_count": 30,
   "metadata": {
    "collapsed": true
   },
   "outputs": [],
   "source": [
    "# Set the brightness of LED matrix to high to see the colors brighter\n",
    "sense.low_light = False"
   ]
  },
  {
   "cell_type": "code",
   "execution_count": 31,
   "metadata": {
    "collapsed": true
   },
   "outputs": [],
   "source": [
    "# Set the colors \n",
    "C = [220,20,60] # Crimson\n",
    "P = [255,105,180] # Pink\n",
    "Pp = [128,0,128] # Purple \n",
    "B = [0,0,255]  # Blue\n",
    "Sb = [30,144,255] # Sky Blue\n",
    "T = [0,128,128] # Teal\n",
    "Sg = [0,205,102] # Spring Green\n",
    "G = [0,139,0] # Green\n",
    "Ol = [202,255,112] # Olive\n",
    "Y = [255,255,0] # Yellow\n",
    "O = [255,165,0] # Orange\n",
    "Do = [205,102,0] # Dark Orange\n",
    "Co = [238,106,80] # Coral\n",
    "Ir = [238,99,99] # Indian Red\n",
    "R = [255,0,0]  # Red\n",
    "M = [128,0,0] # Maroon\n",
    "Bl = [0,0,0] # Black\n",
    "Dg = [60,60,60] # Dark Grey\n",
    "G2 = [100,100,100] # Grey 2 \n",
    "G = [160,160,160] # Grey\n",
    "W = [255,255,255] # White\n",
    "\n",
    "# Set the pixels on sense HAT LED matrix\n",
    "color_pallet = [\n",
    "C, C, C, P, P, P, Pp, Pp,\n",
    "T, Sb, Sb, Sb, B, B, B, Pp,\n",
    "T, T, Sg, Sg, Sg, G, G, G,\n",
    "O, O, Y, Y, Y, Ol, Ol, Ol,\n",
    "O, Do, Do, Do, Co, Co, Co, Ir,\n",
    "M, M, M, R, R, R, Ir, Ir,\n",
    "Bl, Bl, Bl, Dg, Dg, Dg, Dg, G2,\n",
    "G2, G2, G, G, G, W, W, W\n",
    "]\n",
    "\n",
    "# Display the color pallet\n",
    "sense.set_pixels(color_pallet)"
   ]
  },
  {
   "cell_type": "code",
   "execution_count": 32,
   "metadata": {
    "collapsed": true
   },
   "outputs": [],
   "source": [
    "# Clear the LED matrix\n",
    "sense.clear()"
   ]
  },
  {
   "cell_type": "markdown",
   "metadata": {},
   "source": [
    "* Set the brightness of LED matrix to\n",
    "> ```low_light()```: Toggles the LED matrix low light mode.    \n",
    "It is a useful function when the Sense HAT is being used in a dark environment. "
   ]
  },
  {
   "cell_type": "code",
   "execution_count": 33,
   "metadata": {
    "collapsed": true
   },
   "outputs": [],
   "source": [
    "sense.low_light = True "
   ]
  },
  {
   "cell_type": "code",
   "execution_count": 34,
   "metadata": {
    "collapsed": true
   },
   "outputs": [],
   "source": [
    "# show_message(): Scrools a text message from right to left across the LED matrix. \n",
    "# scroll_speed: one of the parameter which represents the time paused from between text shifting. Default = 0.1\n",
    "sense.show_message(\"Let's play with sensors!\",    \n",
    "                text_colour = [0,0,255], back_colour = [255,255,255], scroll_speed = 0.09)\n",
    "sense.clear()"
   ]
  },
  {
   "cell_type": "markdown",
   "metadata": {},
   "source": [
    "---\n",
    "# Environmental Sensors\n",
    "The Sense HAT has a set of environmental sensors to detect the surrounding conditions such as \n",
    "* Temperature\n",
    "* Humidity\n",
    "* Atmospheric pressure"
   ]
  },
  {
   "cell_type": "markdown",
   "metadata": {},
   "source": [
    "---\n",
    "### Temperature from different sensors \n",
    "* Detect the temperature in degree Celsius using ```get_temperature()```"
   ]
  },
  {
   "cell_type": "code",
   "execution_count": 35,
   "metadata": {},
   "outputs": [
    {
     "name": "stdout",
     "output_type": "stream",
     "text": [
      "Temperature = 32.72\n"
     ]
    }
   ],
   "source": [
    "# Get the temperature using get_temperature()\n",
    "temp = sense.get_temperature()\n",
    "# Round the temperature to 2 decimal value\n",
    "temp = round(temp,2)\n",
    "# Print it in the Jupyter Notebook \n",
    "print (\"Temperature =\",temp)\n",
    "# Print temperature on LED matrix\n",
    "sense.show_message(str(temp), scroll_speed = 0.09)"
   ]
  },
  {
   "cell_type": "markdown",
   "metadata": {},
   "source": [
    "* Get the temperature in degree Celsius from the Humidity sensor using ```get_temperature_from_humidity()```"
   ]
  },
  {
   "cell_type": "code",
   "execution_count": 36,
   "metadata": {},
   "outputs": [
    {
     "name": "stdout",
     "output_type": "stream",
     "text": [
      "Temperature from Humidity Sensor = 32.7\n"
     ]
    }
   ],
   "source": [
    "temp2 = sense.get_temperature_from_humidity()\n",
    "temp2 = round(temp2,2)\n",
    "print (\"Temperature from Humidity Sensor =\",temp2)\n",
    "# Print temperature2 on LED matrix\n",
    "sense.show_message(str(temp2), scroll_speed = 0.09)"
   ]
  },
  {
   "cell_type": "markdown",
   "metadata": {},
   "source": [
    "* Get temperature in degree Celsius from the Pressure sensor using ```get_temperature_from_pressure()```"
   ]
  },
  {
   "cell_type": "code",
   "execution_count": 37,
   "metadata": {},
   "outputs": [
    {
     "name": "stdout",
     "output_type": "stream",
     "text": [
      "Temperature from Pressure Sensor = 30.79\n"
     ]
    }
   ],
   "source": [
    "temp3 = sense.get_temperature_from_pressure()\n",
    "temp3 = round(temp3,2)\n",
    "print (\"Temperature from Pressure Sensor =\",temp3)\n",
    "# Print temperature3 on LED matrix\n",
    "sense.show_message(str(temp3), scroll_speed = 0.09)"
   ]
  },
  {
   "cell_type": "markdown",
   "metadata": {},
   "source": [
    "---\n",
    "\n",
    "### Humidity \n",
    "* Detect the percentage of relative humidity from humidity sensor using ```get_humidity()```"
   ]
  },
  {
   "cell_type": "code",
   "execution_count": 38,
   "metadata": {},
   "outputs": [
    {
     "name": "stdout",
     "output_type": "stream",
     "text": [
      "Humidity = 28.69\n"
     ]
    }
   ],
   "source": [
    "humid = sense.get_humidity()\n",
    "humid = round(humid,2)\n",
    "print (\"Humidity =\",humid)\n",
    "sense.show_message(str(humid), scroll_speed = 0.09)"
   ]
  },
  {
   "cell_type": "markdown",
   "metadata": {},
   "source": [
    "---\n",
    "### [Atmospheric pressure](https://en.wikipedia.org/wiki/Atmospheric_pressure) \n",
    "> Atmospheric pressure, also known as barometric pressure, is the pressure within the atmosphere of Earth. \n",
    "\n",
    "* Detect the atmospheric pressure in millibars from the pressure sensor using ```get_pressure() ```"
   ]
  },
  {
   "cell_type": "code",
   "execution_count": 39,
   "metadata": {},
   "outputs": [
    {
     "name": "stdout",
     "output_type": "stream",
     "text": [
      "Atmospheric Pressure = 28.69\n"
     ]
    }
   ],
   "source": [
    "pressure = sense.get_pressure()\n",
    "pressure = round(pressure,2)\n",
    "print (\"Atmospheric Pressure =\",pressure)\n",
    "sense.show_message(str(pressure), scroll_speed = 0.09)"
   ]
  },
  {
   "cell_type": "markdown",
   "metadata": {},
   "source": [
    "---"
   ]
  },
  {
   "cell_type": "markdown",
   "metadata": {},
   "source": [
    "### Collect temperature \n",
    "* Collect the temperature in every 10 seconds for 10 minutes\n",
    "* Store the collected data in a [CSV file](https://en.wikipedia.org/wiki/Comma-separated_values)   \n",
    "> Data format: Month/Date/Year,Hour:Min:Sec , Temperature    \n",
    "Ex : 11/04/17,18:09:25 , 36.606"
   ]
  },
  {
   "cell_type": "code",
   "execution_count": 41,
   "metadata": {},
   "outputs": [
    {
     "name": "stdout",
     "output_type": "stream",
     "text": [
      "02/24/18,18:45:50 , 89.867\n",
      "02/24/18,18:46:00 , 89.964\n",
      "02/24/18,18:46:10 , 90.159\n",
      "02/24/18,18:46:20 , 90.224\n",
      "02/24/18,18:46:30 , 90.419\n",
      "02/24/18,18:46:41 , 90.257\n",
      "02/24/18,18:46:51 , 90.322\n",
      "02/24/18,18:47:01 , 90.322\n",
      "02/24/18,18:47:11 , 90.517\n",
      "02/24/18,18:47:21 , 90.452\n",
      "02/24/18,18:47:31 , 90.484\n",
      "02/24/18,18:47:41 , 90.257\n",
      "02/24/18,18:47:51 , 90.322\n",
      "02/24/18,18:48:01 , 90.387\n",
      "02/24/18,18:48:11 , 90.582\n",
      "02/24/18,18:48:21 , 90.712\n",
      "02/24/18,18:48:31 , 90.289\n",
      "02/24/18,18:48:41 , 90.484\n",
      "02/24/18,18:48:51 , 90.614\n",
      "02/24/18,18:49:01 , 90.647\n",
      "02/24/18,18:49:11 , 90.387\n",
      "02/24/18,18:49:21 , 90.354\n",
      "02/24/18,18:49:31 , 90.517\n",
      "02/24/18,18:49:41 , 90.419\n",
      "02/24/18,18:49:51 , 90.419\n",
      "02/24/18,18:50:01 , 90.582\n",
      "02/24/18,18:50:11 , 90.289\n",
      "02/24/18,18:50:21 , 90.192\n",
      "02/24/18,18:50:31 , 90.387\n",
      "02/24/18,18:50:41 , 90.484\n",
      "02/24/18,18:50:51 , 90.387\n",
      "02/24/18,18:51:01 , 90.549\n",
      "02/24/18,18:51:11 , 90.419\n",
      "02/24/18,18:51:21 , 90.582\n",
      "02/24/18,18:51:31 , 90.549\n",
      "02/24/18,18:51:41 , 90.452\n",
      "02/24/18,18:51:51 , 90.517\n",
      "02/24/18,18:52:01 , 90.647\n",
      "02/24/18,18:52:11 , 90.549\n",
      "02/24/18,18:52:21 , 90.679\n",
      "02/24/18,18:52:31 , 90.517\n",
      "02/24/18,18:52:41 , 90.647\n",
      "02/24/18,18:52:51 , 90.549\n",
      "02/24/18,18:53:01 , 90.842\n",
      "02/24/18,18:53:11 , 90.419\n",
      "02/24/18,18:53:21 , 90.484\n",
      "02/24/18,18:53:31 , 90.907\n",
      "02/24/18,18:53:41 , 90.614\n",
      "02/24/18,18:53:51 , 90.452\n",
      "02/24/18,18:54:01 , 90.387\n",
      "02/24/18,18:54:11 , 90.517\n",
      "02/24/18,18:54:21 , 90.875\n",
      "02/24/18,18:54:31 , 90.777\n",
      "02/24/18,18:54:41 , 90.712\n",
      "02/24/18,18:54:51 , 90.972\n",
      "02/24/18,18:55:01 , 90.745\n",
      "02/24/18,18:55:11 , 90.582\n",
      "02/24/18,18:55:21 , 90.517\n",
      "02/24/18,18:55:31 , 90.452\n",
      "02/24/18,18:55:41 , 90.452\n"
     ]
    }
   ],
   "source": [
    "import time\n",
    "import datetime as dt\n",
    "\n",
    "with open(\"./temp.csv\",\"a\") as temp_data: \n",
    "    temp_data.write(\"date,temp\\n\")\n",
    "    for i in range(60):\n",
    "        temp = sense.get_temperature()\n",
    "        # Convert temp from Celsius to Fahrenheit \n",
    "        temp = temp * 1.8 + 31\n",
    "        # Truncate to 3 decimal points for temp\n",
    "        temp = '%.3f' %temp \n",
    "        # Set date format\n",
    "        t = dt.datetime.now().strftime(\"%m/%d/%y,%H:%M:%S\")\n",
    "        # Store data \n",
    "        temp_data.write(str(t)+\",\"+str(temp)+\"\\n\")\n",
    "        print (t+\",\"+temp )\n",
    "        # sleep for 10 seconds \n",
    "        time.sleep(10)\n",
    "        \n",
    "sense.show_message(\"Done!\")"
   ]
  },
  {
   "cell_type": "markdown",
   "metadata": {},
   "source": [
    "---\n",
    "### Generate a temperature graph "
   ]
  },
  {
   "cell_type": "markdown",
   "metadata": {},
   "source": [
    "* Import libraries"
   ]
  },
  {
   "cell_type": "code",
   "execution_count": 42,
   "metadata": {
    "collapsed": true
   },
   "outputs": [],
   "source": [
    "import pandas as pd\n",
    "import numpy as np\n",
    "import matplotlib.pyplot as plt"
   ]
  },
  {
   "cell_type": "markdown",
   "metadata": {},
   "source": [
    "* Read the collected data "
   ]
  },
  {
   "cell_type": "code",
   "execution_count": 43,
   "metadata": {
    "collapsed": true
   },
   "outputs": [],
   "source": [
    "data = pd.read_csv(\"./temp.csv\")"
   ]
  },
  {
   "cell_type": "code",
   "execution_count": 44,
   "metadata": {},
   "outputs": [
    {
     "data": {
      "text/html": [
       "<div>\n",
       "<table border=\"1\" class=\"dataframe\">\n",
       "  <thead>\n",
       "    <tr style=\"text-align: right;\">\n",
       "      <th></th>\n",
       "      <th>date</th>\n",
       "      <th>temp</th>\n",
       "    </tr>\n",
       "  </thead>\n",
       "  <tbody>\n",
       "    <tr>\n",
       "      <th>02/24/18</th>\n",
       "      <td>18:45:50</td>\n",
       "      <td>89.867</td>\n",
       "    </tr>\n",
       "    <tr>\n",
       "      <th>02/24/18</th>\n",
       "      <td>18:46:00</td>\n",
       "      <td>89.964</td>\n",
       "    </tr>\n",
       "    <tr>\n",
       "      <th>02/24/18</th>\n",
       "      <td>18:46:10</td>\n",
       "      <td>90.159</td>\n",
       "    </tr>\n",
       "    <tr>\n",
       "      <th>02/24/18</th>\n",
       "      <td>18:46:20</td>\n",
       "      <td>90.224</td>\n",
       "    </tr>\n",
       "    <tr>\n",
       "      <th>02/24/18</th>\n",
       "      <td>18:46:30</td>\n",
       "      <td>90.419</td>\n",
       "    </tr>\n",
       "  </tbody>\n",
       "</table>\n",
       "</div>"
      ],
      "text/plain": [
       "              date    temp\n",
       "02/24/18  18:45:50  89.867\n",
       "02/24/18  18:46:00  89.964\n",
       "02/24/18  18:46:10  90.159\n",
       "02/24/18  18:46:20  90.224\n",
       "02/24/18  18:46:30  90.419"
      ]
     },
     "execution_count": 44,
     "metadata": {},
     "output_type": "execute_result"
    }
   ],
   "source": [
    "data.head()"
   ]
  },
  {
   "cell_type": "markdown",
   "metadata": {},
   "source": [
    "* Create the temperature graph using the data"
   ]
  },
  {
   "cell_type": "code",
   "execution_count": 45,
   "metadata": {},
   "outputs": [
    {
     "data": {
      "image/png": "[encoded data removed]",
      "text/plain": [
       "<matplotlib.figure.Figure at 0x6c74a9b0>"
      ]
     },
     "metadata": {},
     "output_type": "display_data"
    }
   ],
   "source": [
    "plt.figure(figsize=(30,15))\n",
    "plt.title(\"Temperature\", fontsize = 30)\n",
    "plt.xlabel(\"Time\", fontsize = 25)\n",
    "plt.ylabel(\"Temperature\", fontsize = 25)\n",
    "\n",
    "data.date = pd.to_datetime(data.date)\n",
    "plt.plot(data.date, data.temp, color = 'r')\n",
    "plt.savefig(\"./temperature.png\")\n",
    "plt.show()"
   ]
  },
  {
   "cell_type": "markdown",
   "metadata": {},
   "source": [
    "---\n",
    "\n",
    "# IMU Sensor \n",
    "Sense HAT includes the Inertial Measurement Unit Sensor which is a combination of three sensors\n",
    "* Magnetometer\n",
    "* Gyroscope\n",
    "* Accelerometer\n",
    "   \n",
    "\n",
    "To use these sensors, it is required to enable and disable the sensor contribution to get the desired function.    \n",
    "* ```set_imu_config(first_parameter, second_parameter, third_parameter)```   \n",
    "  This will enable and disable the gyroscope, accelerometer and/or magnetometer contribution\n",
    "  * First parameter:    Magnetometer\n",
    "  * Second parameter:   Gyroscope  \n",
    "  * Third parameter:    Accelerometer         \n",
    "    And   \n",
    "  * Valid values:       True, False"
   ]
  },
  {
   "cell_type": "markdown",
   "metadata": {},
   "source": [
    "---\n",
    "## [Gyroscope](https://en.wikipedia.org/wiki/Gyroscope) \n",
    "> Gyroscope is used to measure and maintain orientation and angular velocity. It is a device with spinning wheel or disc in which the axis of rotation is free to assume any orientation by itself.  \n",
    "\n",
    "\n",
    "<img src='https://upload.wikimedia.org/wikipedia/commons/thumb/e/e2/3D_Gyroscope.png/1200px-3D_Gyroscope.png' style=\"width:30%;\"/>\n",
    "\n",
    "* Detect the current orientation from the gyroscope : ```get_gyroscope()```      \n",
    "> Returned type : Dictionary    \n",
    "Explanation : A dictionary object indexed by the strings pitch, roll and yaw.     \n",
    "The values are Floats representing the angle of the axis in degrees   \n",
    "There are alternatives to get gyroscope:   \n",
    "  * ```print(sense.gyroscope) ```  \n",
    "  * ```print(sense.gyro)``` , etc."
   ]
  },
  {
   "cell_type": "code",
   "execution_count": 46,
   "metadata": {
    "collapsed": true
   },
   "outputs": [],
   "source": [
    "# Enable gyroscope only and disable magnetometer and accelerometer \n",
    "sense.set_imu_config(False, True, False) "
   ]
  },
  {
   "cell_type": "code",
   "execution_count": 50,
   "metadata": {},
   "outputs": [
    {
     "name": "stdout",
     "output_type": "stream",
     "text": [
      "Pitch(Y-axis): 359.91058700076144, Roll(X-axis): 359.76952247017306, Yaw(Z-axis): 353.39688516469937\n"
     ]
    }
   ],
   "source": [
    "# Get orientation from the gyroscope\n",
    "gyro = sense.get_gyroscope()\n",
    "print(\"Pitch(Y-axis): {pitch}, Roll(X-axis): {roll}, Yaw(Z-axis): {yaw}\".format(**gyro))"
   ]
  },
  {
   "cell_type": "markdown",
   "metadata": {},
   "source": [
    "---\n",
    "## [Accelerometer](https://en.wikipedia.org/wiki/Accelerometer) \n",
    "> Accelerometer is a device used to measure [proper acceleration](https://en.wikipedia.org/wiki/Proper_acceleration)\n",
    "\n",
    "* Detect the movements : ```get_accelerometer()```    \n",
    "> Returned type: Dictionary    \n",
    "  Explanation: A dictionary object indexed by the strings pitch, roll and yaw.      \n",
    "  The values are Floats representing     the angle of the axis in degrees   \n",
    "   There are alternatives to get accelerometer:\n",
    "   * ```print(sense.accel)```\n",
    "   * ```print(sense.accelerometer)``` , etc.\n"
   ]
  },
  {
   "cell_type": "code",
   "execution_count": 51,
   "metadata": {},
   "outputs": [
    {
     "name": "stdout",
     "output_type": "stream",
     "text": [
      "p: 359.91607915987515, r: 359.86059553221514, y: 353.3966717212878\n"
     ]
    }
   ],
   "source": [
    "# Enable accelerometer only and disable magnetometer and gyroscope\n",
    "sense.set_imu_config(False, False, True) \n",
    "accelerometer = sense.get_accelerometer()\n",
    "print(\"p: {pitch}, r: {roll}, y: {yaw}\".format(**accelerometer))"
   ]
  },
  {
   "cell_type": "markdown",
   "metadata": {},
   "source": [
    "---\n",
    "## [Magnetometer](https://en.wikipedia.org/wiki/Magnetometer)\n",
    "* Detect the direction of North from the magnetometer in degrees : ```get_compass()```   \n",
    "> Returned type: Float   \n",
    "  Explanation: the direction of North  \n",
    "  There are alternatives to get magnetic fields\n",
    "  * ```print(sense.compass)``` , etc.\n",
    "\n"
   ]
  },
  {
   "cell_type": "code",
   "execution_count": 52,
   "metadata": {},
   "outputs": [
    {
     "name": "stdout",
     "output_type": "stream",
     "text": [
      "North: 350.1286733709073 in degrees\n"
     ]
    }
   ],
   "source": [
    "# Enable magnetometer only and disable accelerometer and gyroscope\n",
    "sense.set_imu_config(False, False, True) \n",
    "north = sense.get_compass()\n",
    "print(\"North: %s in degrees\" % north)"
   ]
  },
  {
   "cell_type": "markdown",
   "metadata": {},
   "source": [
    "---"
   ]
  },
  {
   "cell_type": "markdown",
   "metadata": {},
   "source": [
    "# [Joystick](https://en.wikipedia.org/wiki/Joystick)\n",
    "> A joystick is a device consisting of a stick that pivots on a base and reports its angle or direction to the device it is controlling.    \n",
    "It is also known as the control column. \n",
    "<img src='https://www.mathworks.com/help/examples/raspberrypiio_product/win64/sensehat_joystick.png' style=\"width:70%;\"/>\n"
   ]
  },
  {
   "cell_type": "markdown",
   "metadata": {},
   "source": [
    "---\n",
    "### Joystick: [InputEvent](https://pythonhosted.org/sense-hat/api/#joystick)\n",
    "* A tuple to describe a joystick even \n",
    "* Contains three parameters:\n",
    " * timestamp : time at which the event occurred\n",
    " * direction : direction the joystick was moved (\"up\", \"down\", \"left\", \"right\", \"middle\")\n",
    " * action    : action that occurred (\"pressed\", \"released\", \"held\")"
   ]
  },
  {
   "cell_type": "markdown",
   "metadata": {},
   "source": [
    "---\n",
    "* Detect joystick movement with: ``` wait_for_event()```\n",
    " * Run the following code\n",
    " * Make an action on the joystick   \n",
    " \n",
    " \n",
    " ```wait_for_event()```:  Blocks execution until a joystick event occurs.     \n",
    "    Then, it returns an ```InputEvent``` representing the event that occurred.\n",
    " "
   ]
  },
  {
   "cell_type": "code",
   "execution_count": 53,
   "metadata": {},
   "outputs": [
    {
     "name": "stdout",
     "output_type": "stream",
     "text": [
      "The joystick was pressed middle.\n"
     ]
    }
   ],
   "source": [
    "# Wait for the joystick event\n",
    "event = sense.stick.wait_for_event()\n",
    "# Print the event action\n",
    "print(\"The joystick was {} {}.\".format(event.action, event.direction))"
   ]
  },
  {
   "cell_type": "markdown",
   "metadata": {},
   "source": [
    "---\n",
    "* Detect joystick movement with: ``` get_events()```  \n",
    " * Run the following code\n",
    " * It will get the 5 events of joysticks\n",
    " * It will display the movements of joysticks on LED matrix of sense HAT\n",
    " \n",
    "  \n",
    "```get_events()```:Returns a list of InputEvent tuples representing all events      \n",
    "that have occurred since the last call to get_events or wait_for_event.```\n",
    "\n",
    "\n",
    "**Material adapted from: [joystick code](https://trinket.io/embed/python/e92f522f64#.WpIL-maZOL4)**"
   ]
  },
  {
   "cell_type": "code",
   "execution_count": 54,
   "metadata": {
    "collapsed": true
   },
   "outputs": [],
   "source": [
    "from time import sleep\n",
    "\n",
    "counter = 0\n",
    "\n",
    "while counter < 5:\n",
    "    for event in sense.stick.get_events():\n",
    "        if event.action == \"pressed\":\n",
    "            counter += 1\n",
    "                \n",
    "            #Check the direction of joystick\n",
    "            if event.direction == \"up\":\n",
    "                sense.show_letter(\"U\")\n",
    "            elif event.direction == \"down\":\n",
    "                sense.show_letter(\"D\")\n",
    "            elif event.direction == \"left\":\n",
    "                sense.show_letter(\"L\")\n",
    "            elif event.direction == \"right\":\n",
    "                sense.show_letter(\"R\")\n",
    "            elif event.direction == \"middle\":\n",
    "                sense.show_letter(\"M\")\n",
    "                 \n",
    "            # Print the letter for 0.\n",
    "            sleep(0.5)\n",
    "            if counter == 5:\n",
    "                sense.show_message(\"Joy stick's action events are over.\", scroll_speed = 0.09)\n",
    "            # Clear the sense HAT screen\n",
    "            sense.clear()\n",
    "          "
   ]
  },
  {
   "cell_type": "markdown",
   "metadata": {},
   "source": [
    "---"
   ]
  }
 ],
 "metadata": {
  "kernelspec": {
   "display_name": "Python 3",
   "language": "python",
   "name": "python3"
  },
  "language_info": {
   "codemirror_mode": {
    "name": "ipython",
    "version": 3
   },
   "file_extension": ".py",
   "mimetype": "text/x-python",
   "name": "python",
   "nbconvert_exporter": "python",
   "pygments_lexer": "ipython3",
   "version": "3.6.3"
  }
 },
 "nbformat": 4,
 "nbformat_minor": 2
}
